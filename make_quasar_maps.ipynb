{
 "cells": [
  {
   "cell_type": "markdown",
   "metadata": {},
   "source": [
    "Here we make the quasar error-weighed proper motion velocity field. "
   ]
  },
  {
   "cell_type": "code",
   "execution_count": 1,
   "metadata": {},
   "outputs": [],
   "source": [
    "import numpy as np\n",
    "import matplotlib.pyplot as plt\n",
    "from astropy import units as u\n",
    "from astropy.coordinates import SkyCoord\n",
    "import pandas as pd\n",
    "import healpy as hp\n",
    "from tqdm import *\n",
    "import emcee\n",
    "import corner\n",
    "from uncertainties import ufloat\n",
    "from uncertainties.umath import *  \n",
    "\n",
    "%matplotlib inline\n",
    "%load_ext autoreload\n",
    "%autoreload 2"
   ]
  },
  {
   "cell_type": "code",
   "execution_count": 2,
   "metadata": {},
   "outputs": [],
   "source": [
    "nside = 16"
   ]
  },
  {
   "cell_type": "code",
   "execution_count": 3,
   "metadata": {},
   "outputs": [],
   "source": [
    "# Load quasars into a DataFrame\n",
    "quasars_pd = pd.read_csv(\"../Lensing-PowerSpectra/Data/quasars_phot.csv\")"
   ]
  },
  {
   "cell_type": "code",
   "execution_count": 4,
   "metadata": {},
   "outputs": [
    {
     "data": {
      "text/plain": [
       "Index(['source_id', 'parallax', 'parallax_error', 'ra', 'dec', 'ra_error',\n",
       "       'dec_error', 'pmra', 'pmdec', 'pmra_error', 'pmdec_error',\n",
       "       'pmra_pmdec_corr', 'astrometric_gof_al',\n",
       "       'astrometric_matched_observations', 'visibility_periods_used',\n",
       "       'astrometric_sigma5d_max', 'radial_velocity', 'radial_velocity_error',\n",
       "       'astrometric_n_good_obs_al', 'astrometric_n_bad_obs_al',\n",
       "       'astrometric_excess_noise', 'astrometric_excess_noise_sig',\n",
       "       'astrometric_weight_al', 'astrometric_chi2_al', 'matched_observations',\n",
       "       'phot_g_mean_mag', 'phot_bp_rp_excess_factor'],\n",
       "      dtype='object')"
      ]
     },
     "execution_count": 4,
     "metadata": {},
     "output_type": "execute_result"
    }
   ],
   "source": [
    "# Inspect\n",
    "quasars_pd.columns"
   ]
  },
  {
   "cell_type": "code",
   "execution_count": 5,
   "metadata": {},
   "outputs": [],
   "source": [
    "# Extract relevant parameters\n",
    "\n",
    "ra = quasars_pd['ra'].values\n",
    "dec = quasars_pd['dec'].values\n",
    "\n",
    "pm_ra_cosdec = quasars_pd['pmra'].values*np.cos(quasars_pd['dec'].values*np.pi/180.)\n",
    "pm_dec = quasars_pd['pmdec'].values\n",
    "\n",
    "radial_velocity = quasars_pd['radial_velocity'].values"
   ]
  },
  {
   "cell_type": "code",
   "execution_count": 6,
   "metadata": {},
   "outputs": [],
   "source": [
    "# Create SkyCoord object (because we live in a society)\n",
    "\n",
    "quasars_icrs = SkyCoord(ra=ra*u.deg, \n",
    "             dec=dec*u.deg, \n",
    "             pm_ra_cosdec=pm_ra_cosdec*u.mas/u.yr, \n",
    "             pm_dec=pm_dec*u.mas/u.yr,\n",
    "             radial_velocity=radial_velocity*u.km/u.s,\n",
    "             frame='icrs')"
   ]
  },
  {
   "cell_type": "code",
   "execution_count": 7,
   "metadata": {},
   "outputs": [],
   "source": [
    "ra_gal = quasars_icrs.ra.value\n",
    "dec_gal = quasars_icrs.dec.value\n",
    "\n",
    "pm_ra_gal = quasars_icrs.pm_ra_cosdec.value\n",
    "pm_dec_gal = quasars_icrs.pm_dec.value\n",
    "\n",
    "pm_ra_err = quasars_pd['pmra_error']\n",
    "pm_dec_err = quasars_pd['pmdec_error']"
   ]
  },
  {
   "cell_type": "code",
   "execution_count": 8,
   "metadata": {},
   "outputs": [],
   "source": [
    "# Helper function\n",
    "\n",
    "def idx_to_dec_ra(nside, index):\n",
    "    \"\"\" Return DEC, RA corresponding to HEALPIX pixel ``index`` of given ``nside``\n",
    "    \"\"\"\n",
    "    theta, phi = hp.pixelfunc.pix2ang(nside, index)\n",
    "    return -np.degrees(theta - np.pi/2.), np.degrees(2*np.pi - phi)\n",
    "\n",
    "def dec_ra_to_idx(nside, dec,ra):\n",
    "    \"\"\" Return index corresponding to HEALPIX resolution ``nside`` for given \n",
    "        angular coordinates ``dec``, ``ra``\n",
    "    \"\"\"\n",
    "    return hp.pixelfunc.ang2pix(nside,np.radians(-dec + 90.), np.radians(360. - ra))"
   ]
  },
  {
   "cell_type": "code",
   "execution_count": 9,
   "metadata": {},
   "outputs": [],
   "source": [
    "# Initialize array\n",
    "\n",
    "qpix = dec_ra_to_idx(nside, dec_gal, ra_gal)\n",
    "\n",
    "quasars_map = np.zeros(hp.nside2npix(nside))\n",
    "\n",
    "pm_ra_map = np.zeros(hp.nside2npix(nside))\n",
    "pm_dec_map = np.zeros(hp.nside2npix(nside))\n",
    "\n",
    "pm_ra_noise_map = np.zeros(hp.nside2npix(nside))\n",
    "pm_dec_noise_map = np.zeros(hp.nside2npix(nside))"
   ]
  },
  {
   "cell_type": "code",
   "execution_count": 10,
   "metadata": {},
   "outputs": [
    {
     "data": {
      "application/vnd.jupyter.widget-view+json": {
       "model_id": "f1778e29281643d782ad3b79f0a47cdb",
       "version_major": 2,
       "version_minor": 0
      },
      "text/plain": [
       "HBox(children=(IntProgress(value=0, max=555934), HTML(value='')))"
      ]
     },
     "metadata": {},
     "output_type": "display_data"
    },
    {
     "name": "stdout",
     "output_type": "stream",
     "text": [
      "\n"
     ]
    }
   ],
   "source": [
    "# Fill arrays \n",
    "\n",
    "for idx, ipix in enumerate(tqdm_notebook((qpix))):\n",
    "    quasars_map[ipix] += 1\n",
    "    pm_ra_map[ipix] += pm_ra_gal[idx]\n",
    "    pm_dec_map[ipix] += pm_dec_gal[idx]\n",
    "    \n",
    "    pm_ra_noise_map[ipix] += pm_ra_err[idx]\n",
    "    pm_dec_noise_map[ipix] += pm_dec_err[idx]"
   ]
  },
  {
   "cell_type": "code",
   "execution_count": 11,
   "metadata": {},
   "outputs": [],
   "source": [
    "# Create proper motion maps\n",
    "\n",
    "pm_v_map = np.zeros(hp.nside2npix(nside))\n",
    "pm_v_noise_map = np.zeros(hp.nside2npix(nside))"
   ]
  },
  {
   "cell_type": "code",
   "execution_count": 12,
   "metadata": {},
   "outputs": [
    {
     "data": {
      "application/vnd.jupyter.widget-view+json": {
       "model_id": "c2baa554bf6744c1933edf92983a7a54",
       "version_major": 2,
       "version_minor": 0
      },
      "text/plain": [
       "HBox(children=(IntProgress(value=0, max=555934), HTML(value='')))"
      ]
     },
     "metadata": {},
     "output_type": "display_data"
    },
    {
     "name": "stdout",
     "output_type": "stream",
     "text": [
      "\n"
     ]
    },
    {
     "data": {
      "application/vnd.jupyter.widget-view+json": {
       "model_id": "92bbace6a6504c4dbd89cb1877c5c097",
       "version_major": 2,
       "version_minor": 0
      },
      "text/plain": [
       "HBox(children=(IntProgress(value=0, max=555934), HTML(value='')))"
      ]
     },
     "metadata": {},
     "output_type": "display_data"
    },
    {
     "name": "stdout",
     "output_type": "stream",
     "text": [
      "\n"
     ]
    }
   ],
   "source": [
    "pm_ra_gal_uct = [ufloat(pm_ra_gal[i],pm_ra_err[i]) for i in tqdm_notebook(range(len(qpix)))]\n",
    "pm_dec_gal_uct = [ufloat(pm_dec_gal[i],pm_dec_err[i]) for i in tqdm_notebook(range(len(qpix)))]"
   ]
  },
  {
   "cell_type": "code",
   "execution_count": 13,
   "metadata": {},
   "outputs": [
    {
     "data": {
      "application/vnd.jupyter.widget-view+json": {
       "model_id": "631cf3035a2144319512d65ba7592e8d",
       "version_major": 2,
       "version_minor": 0
      },
      "text/plain": [
       "HBox(children=(IntProgress(value=0, max=555934), HTML(value='')))"
      ]
     },
     "metadata": {},
     "output_type": "display_data"
    },
    {
     "name": "stdout",
     "output_type": "stream",
     "text": [
      "\n"
     ]
    }
   ],
   "source": [
    "pm_v_gal_uct = [sqrt(pm_ra_gal_uct[i]**2 + pm_dec_gal_uct[i]**2) for i in tqdm_notebook(range(len(qpix)))]"
   ]
  },
  {
   "cell_type": "code",
   "execution_count": 14,
   "metadata": {},
   "outputs": [
    {
     "data": {
      "application/vnd.jupyter.widget-view+json": {
       "model_id": "ef886f4ef6754e009d25632931b956f3",
       "version_major": 2,
       "version_minor": 0
      },
      "text/plain": [
       "HBox(children=(IntProgress(value=0, max=555934), HTML(value='')))"
      ]
     },
     "metadata": {},
     "output_type": "display_data"
    },
    {
     "name": "stdout",
     "output_type": "stream",
     "text": [
      "\n"
     ]
    },
    {
     "data": {
      "application/vnd.jupyter.widget-view+json": {
       "model_id": "a89936579b5243aa8cd837a799a4a43f",
       "version_major": 2,
       "version_minor": 0
      },
      "text/plain": [
       "HBox(children=(IntProgress(value=0, max=555934), HTML(value='')))"
      ]
     },
     "metadata": {},
     "output_type": "display_data"
    },
    {
     "name": "stdout",
     "output_type": "stream",
     "text": [
      "\n"
     ]
    }
   ],
   "source": [
    "pm_v_gal = [pm_v_gal_uct[i].nominal_value for i in tqdm_notebook(range(len(qpix)))]\n",
    "pm_v_noise_gal = [pm_v_gal_uct[i].std_dev for i in tqdm_notebook(range(len(qpix)))]"
   ]
  },
  {
   "cell_type": "code",
   "execution_count": 15,
   "metadata": {},
   "outputs": [],
   "source": [
    "pm_v_map_aux = [[] for i in range(hp.nside2npix(nside))]\n",
    "pm_v_noise_map_aux = [[] for i in range(hp.nside2npix(nside))]"
   ]
  },
  {
   "cell_type": "code",
   "execution_count": 16,
   "metadata": {},
   "outputs": [
    {
     "data": {
      "application/vnd.jupyter.widget-view+json": {
       "model_id": "f03a9a1ad4cf47a38d34cd2f748377b1",
       "version_major": 2,
       "version_minor": 0
      },
      "text/plain": [
       "HBox(children=(IntProgress(value=0, max=555934), HTML(value='')))"
      ]
     },
     "metadata": {},
     "output_type": "display_data"
    },
    {
     "name": "stdout",
     "output_type": "stream",
     "text": [
      "\n"
     ]
    }
   ],
   "source": [
    "# Create error-weighed-mean proper motion maps\n",
    "\n",
    "for idx, ipix in enumerate(tqdm_notebook((qpix))):\n",
    "    pm_v_map_aux[ipix].append(pm_v_gal[idx])\n",
    "    pm_v_noise_map_aux[ipix].append(pm_v_noise_gal[idx])"
   ]
  },
  {
   "cell_type": "code",
   "execution_count": 17,
   "metadata": {},
   "outputs": [],
   "source": [
    "pm_v_map = np.zeros(hp.nside2npix(nside))\n",
    "pm_v_noise_map = np.zeros(hp.nside2npix(nside))"
   ]
  },
  {
   "cell_type": "code",
   "execution_count": 18,
   "metadata": {},
   "outputs": [
    {
     "data": {
      "application/vnd.jupyter.widget-view+json": {
       "model_id": "3971b20fb184415eb3e294fd3617fbdb",
       "version_major": 2,
       "version_minor": 0
      },
      "text/plain": [
       "HBox(children=(IntProgress(value=0, max=3072), HTML(value='')))"
      ]
     },
     "metadata": {},
     "output_type": "display_data"
    },
    {
     "name": "stderr",
     "output_type": "stream",
     "text": [
      "/scratch/sm8383/anaconda3/envs/venv_smsharma/lib/python3.6/site-packages/ipykernel_launcher.py:6: RuntimeWarning: divide by zero encountered in double_scalars\n",
      "  \n",
      "/scratch/sm8383/anaconda3/envs/venv_smsharma/lib/python3.6/site-packages/ipykernel_launcher.py:7: RuntimeWarning: invalid value encountered in double_scalars\n",
      "  import sys\n"
     ]
    },
    {
     "name": "stdout",
     "output_type": "stream",
     "text": [
      "\n"
     ]
    }
   ],
   "source": [
    "# Create error-weighed-mean proper motion maps\n",
    "\n",
    "for ipix in tqdm_notebook(range(hp.nside2npix(nside))):\n",
    "    v_ary = np.array(pm_v_map_aux[ipix])\n",
    "    dv_ary = np.array(pm_v_noise_map_aux[ipix])\n",
    "    sigma2 = 1/np.sum(1/dv_ary**2)\n",
    "    ewm = sigma2*np.sum(v_ary/dv_ary**2)\n",
    "    pm_v_map[ipix] = ewm\n",
    "    pm_v_noise_map[ipix] = np.sqrt(sigma2)"
   ]
  },
  {
   "cell_type": "code",
   "execution_count": 19,
   "metadata": {},
   "outputs": [
    {
     "name": "stderr",
     "output_type": "stream",
     "text": [
      "/scratch/sm8383/anaconda3/envs/venv_smsharma/lib/python3.6/site-packages/matplotlib/font_manager.py:1241: UserWarning: findfont: Font family ['serif'] not found. Falling back to DejaVu Sans.\n",
      "  (prop.get_family(), self.defaultFamily[fontext]))\n"
     ]
    },
    {
     "data": {
      "image/png": "[encoded data removed]",
      "text/plain": [
       "<Figure size 612x388.8 with 2 Axes>"
      ]
     },
     "metadata": {
      "needs_background": "light"
     },
     "output_type": "display_data"
    }
   ],
   "source": [
    "pm_v_map = np.nan_to_num(pm_v_map)\n",
    "hp.mollview(pm_v_map, title=\"Proper motion magnitude\")"
   ]
  },
  {
   "cell_type": "code",
   "execution_count": 20,
   "metadata": {},
   "outputs": [],
   "source": [
    "# Set noise to something large in pixels where there are no quasars\n",
    "pm_v_noise_map[pm_v_noise_map == np.inf] = 1e10"
   ]
  },
  {
   "cell_type": "code",
   "execution_count": 21,
   "metadata": {},
   "outputs": [],
   "source": [
    "np.save(\"data/pm_v_map_nside\" + str(nside), pm_v_map)\n",
    "np.save(\"data/pm_v_noise_map_nside\" + str(nside), pm_v_noise_map)"
   ]
  }
 ],
 "metadata": {
  "kernelspec": {
   "display_name": "Python 3",
   "language": "python",
   "name": "python3"
  },
  "language_info": {
   "codemirror_mode": {
    "name": "ipython",
    "version": 3
   },
   "file_extension": ".py",
   "mimetype": "text/x-python",
   "name": "python",
   "nbconvert_exporter": "python",
   "pygments_lexer": "ipython3",
   "version": "3.6.8"
  }
 },
 "nbformat": 4,
 "nbformat_minor": 2
}
